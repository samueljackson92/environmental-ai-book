{
 "cells": [
  {
   "cell_type": "markdown",
   "id": "4e468e0f-d850-420e-9d78-872164e7e8a0",
   "metadata": {},
   "source": [
    "# Wildfires: MODIS\n",
    "\n",
    "## Context\n",
    "### Purpose\n",
    "Explore [MODIS](https://cmr.earthdata.nasa.gov/search/concepts/C1378227407-LAADS.html) satellite imagery and wildfire data that is open and free for scientific use.\n",
    "\n",
    "### Sensor description\n",
    "The [MOD021KM](https://cmr.earthdata.nasa.gov/search/concepts/C1378227407-LAADS.html) product contains calibrated and geolocated at-aperture radiances for 36 discrete bands located in the 0.4 to 14.4 micron region of the electromagnetic spectrum.\n",
    "\n",
    "\n",
    "### Highlights\n",
    "* Use `satpy` to load, visualise, and regrid MODIS level 1B data.\n",
    "* Fetch a fire database contains some 65552 fires mostly distributed across central and southern Africa.\n",
    "* Visulisation of fire pixels from the database\n",
    "* Visulisation of the fire pixels alongside bands from the MODIS satellite data.\n",
    "\n",
    "### Authors\n",
    "Samuel Jackson, Science & Technology Facilities Council, [@samueljackson92](https://github.com/samueljackson92)\n",
    "\n",
    ":::{note}\n",
    "The author acknowledges [MODIS Science Team](https://doi.org/10.5067/modis/mod021km.061) and the use of data and/or imagery from NASA's Fire Information for Resource Management System (FIRMS) (https://earthdata.nasa.gov/firms), part of NASA's Earth Observing System Data and Information System (EOSDIS).\n",
    ":::"
   ]
  },
  {
   "cell_type": "markdown",
   "id": "18738ce3-a86f-4618-a300-69c159d4cb8f",
   "metadata": {},
   "source": [
    "## Install and load libraries"
   ]
  },
  {
   "cell_type": "code",
   "execution_count": null,
   "id": "2c1778e3-4131-4339-8afd-f730dfb1c6ae",
   "metadata": {},
   "outputs": [],
   "source": [
    "! pip install 'satpy==0.26.0' gdown"
   ]
  },
  {
   "cell_type": "code",
   "execution_count": null,
   "id": "5c6e9348-a1db-4463-8d81-53f6b5206e29",
   "metadata": {},
   "outputs": [],
   "source": [
    "import pandas as pd\n",
    "import numpy as np\n",
    "import geopandas\n",
    "import intake\n",
    "import netrc, fsspec, aiohttp\n",
    "import hvplot.xarray\n",
    "import hvplot.pandas\n",
    "import holoviews as hv\n",
    "import panel as pn\n",
    "import satpy\n",
    "import xarray as xr\n",
    "import tempfile\n",
    "from pathlib import Path\n",
    "from scipy.spatial import cKDTree\n",
    "from satpy.writers import get_enhanced_image\n",
    "from getpass import getpass\n",
    "from pathlib import Path\n",
    "from pyresample import geometry"
   ]
  },
  {
   "cell_type": "markdown",
   "id": "7f7e01b0-e91d-4b6e-8732-eaf8322d0da9",
   "metadata": {},
   "source": [
    "## Fetch Data\n",
    "\n",
    ":::{note}\n",
    "To download data from the [NASA's Earth Data site](https://urs.earthdata.nasa.gov/) you must have a valid Earth Data account. Please register with Earth Data is you do not already have an account and then provide your username and password when prompted in the cell below.\n",
    ":::"
   ]
  },
  {
   "cell_type": "code",
   "execution_count": null,
   "id": "c8972bbc-980d-45e2-a19f-b46f37268c0d",
   "metadata": {},
   "outputs": [],
   "source": [
    "username = input('Username: ')\n",
    "password = getpass('Password: ')\n",
    "    \n",
    "fsspec.config.conf['https'] = dict(client_kwargs={'auth': aiohttp.BasicAuth(username, password)})\n",
    "\n",
    "url = 'https://ladsweb.modaps.eosdis.nasa.gov/archive/allData/61/MOD021KM/2020/245/MOD021KM.A2020245.0840.061.2020245193036.hdf'\n",
    "filename = url.split('/')[-1]\n",
    "with fsspec.open(url) as f:\n",
    "    with Path(filename).open('wb') as handle:\n",
    "        handle.write(f.read())"
   ]
  },
  {
   "cell_type": "markdown",
   "id": "bfc54c32-0e44-4d49-97d3-b3aea7d373c3",
   "metadata": {},
   "source": [
    "Download the database of MODIS wildfires from a publically accessible location."
   ]
  },
  {
   "cell_type": "code",
   "execution_count": null,
   "id": "9e9a5904-13dc-4324-8a16-ffb328915116",
   "metadata": {},
   "outputs": [],
   "source": [
    "!gdown 'https://drive.google.com/uc?id=1VUDIUysR8uFo72q-HFCRdF6qP3eDh_CN'"
   ]
  },
  {
   "cell_type": "markdown",
   "id": "7b2e4579-288e-4ae9-b9e3-e66f17d5ffa2",
   "metadata": {},
   "source": [
    "Load an intake catalog for the downloaded data"
   ]
  },
  {
   "cell_type": "code",
   "execution_count": null,
   "id": "30d99b41-a3d4-4c0c-af52-292be4a0a2a1",
   "metadata": {},
   "outputs": [],
   "source": [
    "path = Path(tempfile.mkdtemp())\n",
    "catalog_file = path / 'catalog.yaml'\n",
    "\n",
    "with catalog_file.open('w') as f:\n",
    "    f.write('''\n",
    "sources:\n",
    "    modis_l1b:\n",
    "      args:\n",
    "        urlpath: 'MOD021KM.A2020245.0840.061.2020245193036.hdf'\n",
    "        reader: 'modis_l1b'\n",
    "      description: \"MODIS Level 1B Products\"\n",
    "      driver: SatpySource\n",
    "      metadata: {}\n",
    "    modis_fires:\n",
    "      args:\n",
    "        urlpath: 'fire_archive_M-C61_210084.csv'\n",
    "      description: \"MODIS Level 2 Fires\"\n",
    "      driver: csv\n",
    "      metadata: {}\n",
    "''')"
   ]
  },
  {
   "cell_type": "code",
   "execution_count": null,
   "id": "b4ce368f-5bdc-4200-9119-00943fdfd83e",
   "metadata": {},
   "outputs": [],
   "source": [
    "from intake.source.base import PatternMixin\n",
    "from intake.source.base import DataSource, Schema\n",
    "\n",
    "import glob\n",
    "\n",
    "class SatpySource(DataSource, PatternMixin):\n",
    "    \"\"\"Intake driver for data supported by satpy.Scene\"\"\"\n",
    "    \n",
    "    container = 'python'\n",
    "    name = 'satpy'\n",
    "    version = '0.0.1'\n",
    "    partition_access = False\n",
    "\n",
    "    def __init__(self, urlpath, reader=None, metadata=None, path_as_pattern=True):\n",
    "        \"\"\"\n",
    "        Parameters\n",
    "        ----------\n",
    "        path: str, location of model pkl file\n",
    "        Either the absolute or relative path to the file\n",
    "        opened. Some examples:\n",
    "          - ``{{ CATALOG_DIR }}/file.nat``\n",
    "          - ``{{ CATALOG_DIR }}/*.nc``\n",
    "        reader: str, optional\n",
    "        Name of the satpy reader to use when loading data (ie. ``modis_l1b``)\n",
    "        metadata: dict, optional\n",
    "        Additional metadata to pass to the intake catalog\n",
    "        path_as_pattern: bool or str, optional\n",
    "        Whether to treat the path as a pattern (ie. ``data_{field}.nc``)\n",
    "        and create new coodinates in the output corresponding to pattern\n",
    "        fields. If str, is treated as pattern to match on. Default is True.\n",
    "        \"\"\"\n",
    "\n",
    "        self.path_as_pattern = path_as_pattern\n",
    "        self.urlpath = urlpath\n",
    "        self._reader = reader\n",
    "        super(SatpySource, self).__init__(metadata=metadata)\n",
    "\n",
    "    def _load(self):\n",
    "        files = self.urlpath\n",
    "        files = list(glob.glob(files))\n",
    "        return satpy.Scene(files, reader=self._reader)\n",
    "    \n",
    "    def _get_schema(self):\n",
    "        self._schema = Schema(\n",
    "            npartitions=1,\n",
    "            extra_metadata={}\n",
    "        )\n",
    "        return self._schema\n",
    "\n",
    "    def read(self):\n",
    "        self._load_metadata()\n",
    "        return self._load()\n",
    "\n",
    "intake.register_driver('SatpySource', SatpySource, overwrite=True)\n",
    "cat = intake.open_catalog(catalog_file)"
   ]
  },
  {
   "cell_type": "markdown",
   "id": "b1f4605d-8ae1-4390-afc4-7f79a5e575a5",
   "metadata": {},
   "source": [
    "## Load MODIS Satellite Data"
   ]
  },
  {
   "cell_type": "code",
   "execution_count": null,
   "id": "6863149d-1cd5-4713-8057-0bc6a50db1fc",
   "metadata": {},
   "outputs": [],
   "source": [
    "scn = cat['modis_l1b'].read()\n",
    "scn"
   ]
  },
  {
   "cell_type": "code",
   "execution_count": null,
   "id": "ac05742d-6d30-4b8f-9e22-c578d61339f8",
   "metadata": {},
   "outputs": [],
   "source": [
    "scn.load(['true_color', '20'], resolution=1000)\n",
    "scn.show('true_color')"
   ]
  },
  {
   "cell_type": "markdown",
   "id": "722e5747-48e8-4b44-86c1-1109140c2dd5",
   "metadata": {},
   "source": [
    "### Resample to a different projection"
   ]
  },
  {
   "cell_type": "code",
   "execution_count": null,
   "id": "6e307192-8693-4ce3-815c-4a0f1947d443",
   "metadata": {},
   "outputs": [],
   "source": [
    "area_id = \"Southern Africa\"\n",
    "description = \"Southern Africa in Mercator-Projection\"\n",
    "proj_id = \"Southern Africa\"\n",
    "proj_dict = {\"proj\": \"eqc\"}\n",
    "\n",
    "width = 1000    # width of the result domain in pixels\n",
    "height = 1000   # height of the result domain in pixels\n",
    "\n",
    "llx =  23E5   # projection x coordinate of lower left corner of lower left pixel\n",
    "lly =  -22.9E5   # projection y coordinate of lower left corner of lower left pixel\n",
    "urx =  48E5   # projection x coordinate of upper right corner of upper right pixel\n",
    "ury =  -1.9E5   # projection y coordinate of upper right corner of upper right pixel\n",
    "\n",
    "area_extent = (llx,lly,urx,ury)\n",
    "from pyresample import create_area_def\n",
    "resolution=1000\n",
    "center =(0,0)\n",
    "area_def = create_area_def(area_id, proj_dict, center=center, resolution=resolution)\n",
    "\n",
    "modis_scn = scn.resample(area_def, radius_of_influence=10000)"
   ]
  },
  {
   "cell_type": "code",
   "execution_count": null,
   "id": "d817222f-cbc0-49b9-b556-2912eaf02133",
   "metadata": {},
   "outputs": [],
   "source": [
    "modis_scn.show('true_color')"
   ]
  },
  {
   "cell_type": "markdown",
   "id": "f485a624-7b6a-4f98-a7c6-cb7be9baf3b1",
   "metadata": {},
   "source": [
    "## Load MODIS Fire Database"
   ]
  },
  {
   "cell_type": "code",
   "execution_count": null,
   "id": "4c8f5103-c4d6-4051-9ca9-bf5756b6c175",
   "metadata": {},
   "outputs": [],
   "source": [
    "fires = cat['modis_fires'].read()\n",
    "\n",
    "time = fires.acq_date.astype(str) + ' ' + fires.acq_time.astype(str).str.zfill(4)\n",
    "fires['timestamp'] = pd.to_datetime(time, format='%Y-%m-%d %H%M')\n",
    "fires = geopandas.GeoDataFrame(\n",
    "    fires, geometry=geopandas.points_from_xy(fires.longitude, fires.latitude))\n",
    "\n",
    "# We're only interested in data from Southern Africa for now\n",
    "llx =  0    # projection x coordinate of lower left corner of lower left pixel\n",
    "lly =  -30  # projection y coordinate of lower left corner of lower left pixel\n",
    "urx =  55   # projection x coordinate of upper right corner of upper right pixel\n",
    "ury =  10   # projection y coordinate of upper right corner of upper right pixel\n",
    "\n",
    "fires = fires.cx[llx:urx, lly:ury]\n",
    "fires = fires.loc[fires.satellite == 'Terra']\n",
    "fires"
   ]
  },
  {
   "cell_type": "markdown",
   "id": "3f4e8f79-9c0f-40f8-8d26-e8a1c6499f55",
   "metadata": {},
   "source": [
    "### Daily Fire Radiative Power "
   ]
  },
  {
   "cell_type": "code",
   "execution_count": null,
   "id": "fba2c5e3-878e-4dd5-99cb-3aaf47d39858",
   "metadata": {},
   "outputs": [],
   "source": [
    "def plot_timeseries(data, y_variable):\n",
    "    \"\"\"Timeseries plot showing the mean fire radiative power at each day as well as the 5% and 95%\"\"\"\n",
    "\n",
    "    def percentile(n):\n",
    "        def percentile_(x):\n",
    "            return np.percentile(x, n)\n",
    "        percentile_.__name__ = 'percentile_%s' % n\n",
    "        return percentile_\n",
    "    \n",
    "    tseries = hv.Overlay([\n",
    "        (data.groupby(['acq_date'])[y_variable].agg([percentile(5), percentile(95)])\n",
    "         .hvplot.area('acq_date', 'percentile_5', 'percentile_95', alpha=0.2, color='red')),\n",
    "            data.groupby(['acq_date'])[y_variable].mean().hvplot(label=f'Average Daily FRP', color='red')])\n",
    "\n",
    "    return tseries.options(xrotation=90, width=800, height=400, xlabel='Day',ylabel=f'FRP (MW)',legend_position='top_left')\n",
    "\n",
    "plot_timeseries(fires, 'frp')"
   ]
  },
  {
   "cell_type": "markdown",
   "id": "07c9cfd9-bcfb-4caf-8778-920c2e3d9a95",
   "metadata": {},
   "source": [
    "### Geographical distribution of Fires"
   ]
  },
  {
   "cell_type": "code",
   "execution_count": null,
   "id": "4cb835be-683a-40e6-aa71-6dbdced407da",
   "metadata": {},
   "outputs": [],
   "source": [
    "fires.hvplot.points('longitude', 'latitude', groupby='acq_date', c='frp', geo=True, alpha=0.2, \n",
    "                    tiles='ESRI', xlim=(llx, urx), ylim=(lly, ury), cmap='autumn', logz=True, \n",
    "                    dynamic=False)"
   ]
  },
  {
   "cell_type": "markdown",
   "id": "ada1349e-0bbe-4a62-9c47-e43832244b6a",
   "metadata": {},
   "source": [
    "## Visualising Fire Pixels with Satellite Imagery"
   ]
  },
  {
   "cell_type": "code",
   "execution_count": null,
   "id": "1811280b-f12c-417b-becb-a10551bb7e2e",
   "metadata": {},
   "outputs": [],
   "source": [
    "modis_dataset = modis_scn.to_xarray_dataset()\n",
    "\n",
    "img = get_enhanced_image(modis_scn['true_color'].squeeze())\n",
    "img = img.data\n",
    "img = img.clip(0, 1)\n",
    "img = (img * 255).astype(np.uint8)\n",
    "\n",
    "modis_dataset['true_color'] = img\n",
    "\n",
    "grid = modis_scn.min_area().get_lonlats()\n",
    "lons, lats = grid[0][0], grid[1][:, 0]\n",
    "modis_dataset = modis_dataset.assign_coords(dict(x=lons, y=lats))\n",
    "modis_dataset = modis_dataset.rename(dict(x='longitude', y='latitude'))\n",
    "\n",
    "rgb = modis_dataset['true_color'].hvplot.rgb(x='longitude', y='latitude', bands='bands')\n",
    "rgb"
   ]
  },
  {
   "cell_type": "code",
   "execution_count": null,
   "id": "3821e746-130c-4161-b3c1-810001f1f783",
   "metadata": {
    "tags": []
   },
   "outputs": [],
   "source": [
    "grid = modis_scn.min_area().get_lonlats()\n",
    "\n",
    "# Mask any fire pixels not in this scene\n",
    "time_mask = np.logical_and(fires.timestamp >= scn.attrs['start_time'], \n",
    "                           fires.timestamp <= scn.attrs['end_time'])\n",
    "fire_points = fires.loc[time_mask]\n",
    "fire_points = fire_points.cx[grid[0].min():grid[0].max(), grid[1].min():grid[1].max()]\n",
    "\n",
    "# extract the x and y coordinates as flat arrays\n",
    "x = np.ravel(grid[0])\n",
    "y = np.ravel(grid[1])\n",
    "points = np.dstack([x, y]).squeeze()\n",
    "\n",
    "# Find locations of fire pixels within satellite image\n",
    "tree = cKDTree(points)\n",
    "distance, idx = tree.query(fire_points[['longitude', 'latitude']], k=1)\n",
    "index = np.unravel_index(idx, grid[0].shape)\n",
    "index = np.vstack(index).T\n",
    "index\n",
    "\n",
    "fire_points[['y', 'x']] = index\n",
    "fire_points = fire_points[img.values[0, index[:, 0], index[:, 1]] != 0]\n",
    "fire_points"
   ]
  },
  {
   "cell_type": "code",
   "execution_count": null,
   "id": "c96785d0-8e7a-4f18-95cb-4401d02ba3a9",
   "metadata": {},
   "outputs": [],
   "source": [
    "rgb = modis_dataset['true_color'].hvplot.rgb(x='longitude', y='latitude', bands='bands', data_aspect=1, hover=False, title='True Colour')\n",
    "points = fire_points.hvplot.points('longitude', 'latitude', c='frp', cmap='autumn', logz=True, alpha=0.4)\n",
    "rgb*points"
   ]
  },
  {
   "cell_type": "code",
   "execution_count": null,
   "id": "7a99515a-b2c9-4ca5-af2d-709dc23e409f",
   "metadata": {},
   "outputs": [],
   "source": [
    "rgb = modis_dataset['20'].hvplot.image(x='longitude', y='latitude', cmap='viridis', data_aspect=1, hover=False, title='Band 20: 3.7 micron')\n",
    "points = fire_points.hvplot.points('longitude', 'latitude', c='frp', cmap='autumn', logz=True, alpha=0.4)\n",
    "rgb*points"
   ]
  }
 ],
 "metadata": {
  "kernelspec": {
   "display_name": "Python (pangeo)",
   "language": "python",
   "name": "pangeo"
  },
  "language_info": {
   "codemirror_mode": {
    "name": "ipython",
    "version": 3
   },
   "file_extension": ".py",
   "mimetype": "text/x-python",
   "name": "python",
   "nbconvert_exporter": "python",
   "pygments_lexer": "ipython3",
   "version": "3.9.5"
  }
 },
 "nbformat": 4,
 "nbformat_minor": 5
}
